{
  "nbformat": 4,
  "nbformat_minor": 0,
  "metadata": {
    "colab": {
      "provenance": []
    },
    "kernelspec": {
      "name": "python3",
      "display_name": "Python 3"
    },
    "language_info": {
      "name": "python"
    }
  },
  "cells": [
    {
      "cell_type": "markdown",
      "metadata": {
        "id": "TJRza6JiKvwP"
      },
      "source": [
        "\n",
        "Disciplina: SCC5948_Ciência_de_dados\n",
        "\n",
        "Normando de Campos Amazonas Filho\n",
        "\n",
        "NUSP: 11561949\n",
        "\n",
        "\n",
        "## Dados unidimensionais\n",
        "\n",
        "Suponha dois conjuntos de dados, que representam as notas finais em uma dada disciplina de duas salas com 100 alunos. Os dados foram armazenados nos arquivos \"notas_salas01.txt\" e \"notas_salas02.txt\".\n",
        "\n",
        "Imagine que uma pessoa deseje comparar o desempenho das salas de aula. Considera-se que, **quanto mais alunos foram aprovados, melhor o desempenho da sala**. Suponha que para ser aprovado, um aluno deve ter nota maior que 50.\n",
        "\n",
        "Como medida inicial de desempenho, essa pessoa calculou a média dos dados através do código abaixo:"
      ]
    },
    {
      "cell_type": "code",
      "metadata": {
        "id": "0Rl_CxITsjsL"
      },
      "source": [
        "import numpy as np\n",
        "import pandas as pd\n",
        "from scipy import stats"
      ],
      "execution_count": null,
      "outputs": []
    },
    {
      "cell_type": "code",
      "metadata": {
        "id": "qq5GloIcKq3j",
        "colab": {
          "base_uri": "https://localhost:8080/"
        },
        "outputId": "22362203-dfa8-4e37-8851-2b2d8121d2d4"
      },
      "source": [
        "salas = []\n",
        "salas.append(np.loadtxt(\"notas_sala01.txt\"))\n",
        "salas.append(np.loadtxt(\"notas_sala02.txt\"))\n",
        "\n",
        "for i in range(0,2):\n",
        "    print(\"--- Sala: %d ---\" % (i+1))\n",
        "    print(\"Média: %f\" % np.mean(salas[i]))"
      ],
      "execution_count": null,
      "outputs": [
        {
          "output_type": "stream",
          "text": [
            "--- Sala: 1 ---\n",
            "Média: 60.184709\n",
            "--- Sala: 2 ---\n",
            "Média: 55.184195\n"
          ],
          "name": "stdout"
        }
      ]
    },
    {
      "cell_type": "markdown",
      "metadata": {
        "id": "dKP6V_kbK4Tv"
      },
      "source": [
        "Com base na média, a pessoa concluiu que a sala 1 obteve um melhor desempenho que a sala 2.\n",
        "\n",
        "### Questão 01.\n",
        "Demonstre o porquê dessa conclusão estar equivocada.\n",
        "   - Sugestão: Transforme as estruturas `salas[0]` e `salas[1]` em estruturas do tipo `DataFrame` da biblioteca **pandas** e utilize as funções de histograma e/ou boxplot."
      ]
    },
    {
      "cell_type": "code",
      "metadata": {
        "id": "QKX00e2zKuy8",
        "colab": {
          "base_uri": "https://localhost:8080/",
          "height": 281
        },
        "outputId": "e67af20a-bb37-47ac-96cf-b4b8f13402fe"
      },
      "source": [
        "df1 = pd.DataFrame(salas[0])\n",
        "df2 = pd.DataFrame(salas[1])\n",
        "\n",
        "h = df1.hist()"
      ],
      "execution_count": null,
      "outputs": [
        {
          "output_type": "display_data",
          "data": {
            "image/png": "[encoded data removed]",
            "text/plain": [
              "<Figure size 432x288 with 1 Axes>"
            ]
          },
          "metadata": {
            "tags": [],
            "needs_background": "light"
          }
        }
      ]
    },
    {
      "cell_type": "code",
      "metadata": {
        "colab": {
          "base_uri": "https://localhost:8080/",
          "height": 281
        },
        "id": "yy4F4O29ryjZ",
        "outputId": "9c77698a-ebd0-4a28-87bf-e3b57347032f"
      },
      "source": [
        "h2 = df2.hist()"
      ],
      "execution_count": null,
      "outputs": [
        {
          "output_type": "display_data",
          "data": {
            "image/png": "[encoded data removed]",
            "text/plain": [
              "<Figure size 432x288 with 1 Axes>"
            ]
          },
          "metadata": {
            "tags": [],
            "needs_background": "light"
          }
        }
      ]
    },
    {
      "cell_type": "markdown",
      "metadata": {
        "id": "wqg4ENwAr9pA"
      },
      "source": [
        "Analisando os histogramas nota-se que no caso da sala 2 houve muito mais alunos com nota acima de 50. Portanto, embora a média da sala 1 seja maior devido a alguns casos de nota muito altas, na sala 2 mais alunos tiraram acima de 50 e como consequencia a sala 2 obteve um melhor desempenho."
      ]
    },
    {
      "cell_type": "markdown",
      "metadata": {
        "id": "xcf9ShzXLBFb"
      },
      "source": [
        "### Questão 02.\n",
        "Calcule o número de aprovados em cada uma das salas."
      ]
    },
    {
      "cell_type": "code",
      "metadata": {
        "id": "uy1U8dEELKjz",
        "colab": {
          "base_uri": "https://localhost:8080/"
        },
        "outputId": "6a7aa33d-e5d8-475e-94be-ad6781a166f2"
      },
      "source": [
        "def num_alunos_aprovados(notas, media=50):\n",
        "  print(\"Número de aprovados na sala: %d\" % len(np.argwhere(notas > 50)))\n",
        "\n",
        "num_alunos_aprovados(salas[1])"
      ],
      "execution_count": null,
      "outputs": [
        {
          "output_type": "stream",
          "text": [
            "Número de aprovados na sala: 90\n"
          ],
          "name": "stdout"
        }
      ]
    },
    {
      "cell_type": "markdown",
      "metadata": {
        "id": "y_VnrhDimxHU"
      },
      "source": [
        "### Base Futebol\n",
        "\n",
        "Suponha que uma emissora de televisão te contratou para analisar o perfil dos jogadores do futebol europeu para que os narradores possam dizer estatísticas sobre eles durante os jogos.\n",
        "\n",
        "Os dados estão numa planilha chamada `players_sampled.csv`, onde cada linha contém os dados de um jogador e cada coluna possui um atributo. Essa base foi adaptada do site de competições de ciência de dados chamado [Kaggle](*https*://www.kaggle.com/hugomathien/soccer)."
      ]
    },
    {
      "cell_type": "code",
      "metadata": {
        "id": "Q4TNT9dxlj0H",
        "colab": {
          "base_uri": "https://localhost:8080/"
        },
        "outputId": "f0dca78a-8d99-4199-86f8-a39b7c3b5866"
      },
      "source": [
        "# Carregando a base\n",
        "df = pd.read_csv('/content/players_sampled.csv')\n",
        "df.info()"
      ],
      "execution_count": null,
      "outputs": [
        {
          "output_type": "stream",
          "text": [
            "<class 'pandas.core.frame.DataFrame'>\n",
            "RangeIndex: 350 entries, 0 to 349\n",
            "Data columns (total 7 columns):\n",
            " #   Column              Non-Null Count  Dtype  \n",
            "---  ------              --------------  -----  \n",
            " 0   id                  350 non-null    int64  \n",
            " 1   player_api_id       350 non-null    int64  \n",
            " 2   player_name         350 non-null    object \n",
            " 3   player_fifa_api_id  350 non-null    int64  \n",
            " 4   birthday            350 non-null    object \n",
            " 5   height              350 non-null    float64\n",
            " 6   weight              350 non-null    int64  \n",
            "dtypes: float64(1), int64(4), object(2)\n",
            "memory usage: 19.3+ KB\n"
          ],
          "name": "stdout"
        }
      ]
    },
    {
      "cell_type": "markdown",
      "metadata": {
        "id": "UXgKevIdl-Mj"
      },
      "source": [
        "### Questão 03\n",
        "Para cada atributo da base, identifique quais são categoricos/nominais, ordinais, intervalares e racionais. (Não precisa ser em código)\n"
      ]
    },
    {
      "cell_type": "markdown",
      "metadata": {
        "id": "3jzWzl-wnMiT"
      },
      "source": [
        "Resposta:\n",
        "\n",
        "**Nominal/Categorico:** id, player_api_id, player_fifa_api_id, player_name\n",
        "\n",
        "**Intervalar**: birthday\n",
        "\n",
        "**Racional:** height, weight"
      ]
    },
    {
      "cell_type": "markdown",
      "metadata": {
        "id": "aQUKompInIsN"
      },
      "source": [
        "### Questão 4\n",
        "\n",
        "Formule 3 hipóteses sobre a base ou seus atributos que possam ser verificadas com os conceitos apresentados na disciplina.\n",
        "\n",
        "\n",
        "-   Hipótese 1\n",
        "\n",
        "-   Hipótese 2\n",
        "\n",
        "-   Hipótese 3\n",
        "\n",
        "\n"
      ]
    },
    {
      "cell_type": "markdown",
      "metadata": {
        "id": "AgG914Mfn3tK"
      },
      "source": [
        "### Questão 5 Verifique se suas hipóteses são verdadeiras"
      ]
    },
    {
      "cell_type": "code",
      "metadata": {
        "id": "JOHyowfgoEBr"
      },
      "source": [
        "def h1(df):\n",
        "  skew = stats.skew(df['height'])\n",
        "  print('Obliquidade: ', skew)\n",
        "  # Com obliquidade pequena podemos considerar tanto uma pequena curvatura como aprox. simetrico.\n",
        "  if skew > 0.5:\n",
        "    print('Cauda direita')\n",
        "  elif skew < -0.5:\n",
        "    print('Cauda esquerda')\n",
        "  else:\n",
        "    print('Distribuição simétrica')\n",
        "\n",
        "h1(df)"
      ],
      "execution_count": null,
      "outputs": []
    },
    {
      "cell_type": "markdown",
      "metadata": {
        "id": "g7ju8CE3lF4P"
      },
      "source": [
        "Pela definição de obliquidade:\n",
        "\n",
        "Se v > 0, então a distribuição tem uma cauda direita (valores acima da média) mais pesada\n",
        "\n",
        "Se v < 0, então a distribuição tem uma cauda esquerda (valores abaixo da média) mais pesada\n",
        "\n",
        "Se v = 0, então a distribuição é aproximadamente simétrica (na terceira potência do desvio em relação à média)."
      ]
    },
    {
      "cell_type": "markdown",
      "metadata": {
        "id": "-J0xNb4Tnw6i"
      },
      "source": [
        "### Questão 6\n",
        "- Os pesos dos jogadores foram dados em libras. Transforme os pesos dos jogadores para quilos e substitua o valor antigo da coluna no DataFrame. Dica: 1 lb = 0.45359237 kg\n",
        "\n",
        "- Crie um novo atributo chamado \"age\" (idade) a partir da data de nascimento do jogador. Este atributo deve ser considerado nas próximas questões. A idade deve ser um número inteiro."
      ]
    },
    {
      "cell_type": "code",
      "metadata": {
        "id": "CrvjUHYpoRiL",
        "colab": {
          "base_uri": "https://localhost:8080/"
        },
        "outputId": "55c4ea56-6ade-4090-976b-41698033585e"
      },
      "source": [
        "def lb_para_kg(df):\n",
        "  df['weight'] = df['weight'].map(lambda x: x*0.45359237)\n",
        "  return df\n",
        "\n",
        "df = lb_para_kg(df)\n",
        "df['weight']"
      ],
      "execution_count": null,
      "outputs": [
        {
          "output_type": "execute_result",
          "data": {
            "text/plain": [
              "0      79.832257\n",
              "1      68.038855\n",
              "2      81.193034\n",
              "3      69.853225\n",
              "4      72.121187\n",
              "         ...    \n",
              "345    68.038855\n",
              "346    69.853225\n",
              "347    84.821773\n",
              "348    74.842741\n",
              "349    83.914588\n",
              "Name: weight, Length: 350, dtype: float64"
            ]
          },
          "metadata": {
            "tags": []
          },
          "execution_count": 32
        }
      ]
    },
    {
      "cell_type": "code",
      "metadata": {
        "id": "qilcIwZT2iJv"
      },
      "source": [
        "# A biblioteca calendar ou a datetime podem te ajudar\n",
        "# Essa questão poderia ser feita de outras formas, como por exemplo utilizando a biblioteca datetime\n",
        "import time\n",
        "import calendar\n",
        "\n",
        "def calc_idade(df):\n",
        "  # strptime -> transforma a data no formato especificado pela string em struct_time (https://docs.python.org/3/library/time.html#time.struct_time)\n",
        "  # calendar.timegm -> recebe uma struct_time e transforma em unix timestamp\n",
        "  # time.time() nos da o tempo atual em unix timestamp. A diferença desse valor e da nossa data é quantos segundos de vida o jogador tem\n",
        "  # Dividimos o valor por 3.154e+7 para ter o resultado em anos.\n",
        "  # Era mais fácil resolver usando o pandas diretamente\n",
        "  age_calc = lambda x: (time.time() - calendar.timegm(time.strptime(x, '%Y-%m-%d %H:%M:%S'))) / 3.154e+7\n",
        "  df['age'] = df['birthday'].map(age_calc).astype(int)\n",
        "  return df"
      ],
      "execution_count": null,
      "outputs": []
    },
    {
      "cell_type": "markdown",
      "metadata": {
        "id": "5NJNcI7_oR_Z"
      },
      "source": [
        "### Questão 7\n",
        "Implemente a função que calcule o percetil de determinado atributo. (Atenção: As bibliotecas Numpy/Pandas possuem a função *quantile* você não deve usá-la em sua função). Os resultados também podem variar dependendo da implementação. Tente seguir a definição dos slides."
      ]
    },
    {
      "cell_type": "code",
      "metadata": {
        "id": "XsgyV9umo_u0"
      },
      "source": [
        "def percentile(df, nome_attr, pct):\n",
        "  '''\n",
        "  Parameters\n",
        "  - df: Dataframe com a base\n",
        "  - attr_name: Nome do atributo que queremos utilizar para computar o percentil\n",
        "  - pct: Percentil. Um número entre 0 e 1.\n",
        "  '''\n",
        "  col = df[nome_attr].sort_values()\n",
        "  idx = np.ceil(pct*len(col) + 0.5)\n",
        "  return col.iloc[int(idx)]"
      ],
      "execution_count": null,
      "outputs": []
    },
    {
      "cell_type": "markdown",
      "metadata": {
        "id": "8LoHeNtQpsWL"
      },
      "source": [
        "### Questão 08\n",
        "Utilizando sua função, calcule a mediana, 1º quartil, 3º quartil"
      ]
    },
    {
      "cell_type": "code",
      "metadata": {
        "id": "VZYQceN_4NQr",
        "colab": {
          "base_uri": "https://localhost:8080/"
        },
        "outputId": "4cb50d8e-78ff-4f4c-fabd-e6c0db5bc8c5"
      },
      "source": [
        "print(percentile(df, 'weight', 0.25))\n",
        "print(percentile(df, 'weight', 0.50))\n",
        "print(percentile(df, 'weight', 0.75))\n",
        "\n",
        "# Comparando com numpy\n",
        "print(np.quantile(df['weight'], 0.25))\n",
        "print(np.quantile(df['weight'], 0.50))\n",
        "print(np.quantile(df['weight'], 0.75))"
      ],
      "execution_count": null,
      "outputs": [
        {
          "output_type": "stream",
          "text": [
            "72.12118683\n",
            "76.20351816\n",
            "81.19303423000001\n",
            "72.12118683\n",
            "76.20351816\n",
            "81.19303423000001\n"
          ],
          "name": "stdout"
        }
      ]
    },
    {
      "cell_type": "markdown",
      "metadata": {
        "id": "bW_923Xp4Lub"
      },
      "source": [
        "# Questão 09\n",
        "\n",
        "Calcule os quatro momentos (média, variância, obliquidade e achatamento) dos atributos onde essas métricas fazem sentido.\n",
        "\n",
        "  - Dica: Utilize as bibliotecas **numpy** para média (mean) e variância (variance) e **Scipy.stats** para obliquidade (skew) e achatamento (kurtosis)."
      ]
    },
    {
      "cell_type": "code",
      "metadata": {
        "id": "BIRq-J0G5UVj"
      },
      "source": [
        "def quatro_momentos(df, nome_attr):\n",
        "  print(\"--- Variável: {} ---\".format(nome_attr))\n",
        "  print(\"Média: %f\" % np.mean(df[nome_attr]))\n",
        "  print(\"Variância: %f\" % np.var(df[nome_attr]))\n",
        "  print(\"Obliquidade: %f\" % stats.skew(df[nome_attr]))\n",
        "  print(\"Achatamento: %f\" % stats.kurtosis(df[nome_attr]))"
      ],
      "execution_count": null,
      "outputs": []
    },
    {
      "cell_type": "code",
      "metadata": {
        "colab": {
          "base_uri": "https://localhost:8080/"
        },
        "id": "9LT2v-qC2-Zw",
        "outputId": "5e459a5d-7485-4b44-d9ec-5cc44f58d30b"
      },
      "source": [
        "quatro_momentos(df, 'weight')\n",
        "# Mesma coisa para height e age"
      ],
      "execution_count": null,
      "outputs": [
        {
          "output_type": "stream",
          "text": [
            "--- Variável: weight ---\n",
            "Média: 76.454938\n",
            "Variância: 41.163591\n",
            "Obliquidade: 0.030147\n",
            "Achatamento: -0.124213\n"
          ],
          "name": "stdout"
        }
      ]
    },
    {
      "cell_type": "markdown",
      "metadata": {
        "id": "-FSTKAZF5FSg"
      },
      "source": [
        "### Questão 10\n",
        "\n",
        "- Calcule o histograma e o boxplot dos atributos altura, peso e idade.\n",
        "- A distribuição dos atributos possui curvatura para algum lado ou são centrados?\n",
        "- A partir do Boxplot, verifique se os atributos tem outliers e justifique."
      ]
    },
    {
      "cell_type": "code",
      "metadata": {
        "id": "0jkiFH7W5T6-"
      },
      "source": [
        "def hist(df, nome_attr):\n",
        "  df.hist(nome_attr, density=1)\n",
        "  df[nome_attr].plot.kde()\n",
        "\n",
        "def boxplot(df, nome_attr):\n",
        "    df.boxplot(nome_attr, showmeans=True)"
      ],
      "execution_count": null,
      "outputs": []
    },
    {
      "cell_type": "code",
      "metadata": {
        "colab": {
          "base_uri": "https://localhost:8080/",
          "height": 281
        },
        "id": "uBcaBxko3j9s",
        "outputId": "aebd5658-9d98-4cd2-cda2-96e1ee5e8005"
      },
      "source": [
        "hist(df, 'weight')"
      ],
      "execution_count": null,
      "outputs": [
        {
          "output_type": "display_data",
          "data": {
            "image/png": "[encoded data removed]",
            "text/plain": [
              "<Figure size 432x288 with 1 Axes>"
            ]
          },
          "metadata": {
            "tags": [],
            "needs_background": "light"
          }
        }
      ]
    },
    {
      "cell_type": "code",
      "metadata": {
        "colab": {
          "base_uri": "https://localhost:8080/",
          "height": 265
        },
        "id": "NsPHy7Iw3oDD",
        "outputId": "db6927cf-e530-4bab-e74e-6ba844d1bfbe"
      },
      "source": [
        "boxplot(df, 'weight')"
      ],
      "execution_count": null,
      "outputs": [
        {
          "output_type": "display_data",
          "data": {
            "image/png": "[encoded data removed]",
            "text/plain": [
              "<Figure size 432x288 with 1 Axes>"
            ]
          },
          "metadata": {
            "tags": [],
            "needs_background": "light"
          }
        }
      ]
    },
    {
      "cell_type": "code",
      "metadata": {
        "colab": {
          "base_uri": "https://localhost:8080/"
        },
        "id": "E1CUzgi9i5KI",
        "outputId": "328e378c-0144-4c88-bb84-691898f0eadf"
      },
      "source": [
        "print(stats.skew(df['weight']))\n",
        "# Pelo boxplot, percebemos que a mediana (linha verde) e a média (triangulo verde) estão muito próximas, o que é um indício de simetria\n",
        "# A obliquidade é pouco maior que 0. Assim podemos considerar que a distribuição é aproximadamente simétrica"
      ],
      "execution_count": null,
      "outputs": [
        {
          "output_type": "stream",
          "text": [
            "0.030147052872865367\n"
          ],
          "name": "stdout"
        }
      ]
    },
    {
      "cell_type": "code",
      "metadata": {
        "colab": {
          "base_uri": "https://localhost:8080/",
          "height": 281
        },
        "id": "mVnpZ1Tn3mVX",
        "outputId": "39598446-6939-42ae-9f80-7e7dd18b7be1"
      },
      "source": [
        "hist(df, 'height')"
      ],
      "execution_count": null,
      "outputs": [
        {
          "output_type": "display_data",
          "data": {
            "image/png": "[encoded data removed]",
            "text/plain": [
              "<Figure size 432x288 with 1 Axes>"
            ]
          },
          "metadata": {
            "tags": [],
            "needs_background": "light"
          }
        }
      ]
    },
    {
      "cell_type": "code",
      "metadata": {
        "colab": {
          "base_uri": "https://localhost:8080/",
          "height": 265
        },
        "id": "l_ZgG4GC3rc-",
        "outputId": "1553b404-736c-4a34-cf54-290d5048f43b"
      },
      "source": [
        "boxplot(df, 'height')"
      ],
      "execution_count": null,
      "outputs": [
        {
          "output_type": "display_data",
          "data": {
            "image/png": "[encoded data removed]",
            "text/plain": [
              "<Figure size 432x288 with 1 Axes>"
            ]
          },
          "metadata": {
            "tags": [],
            "needs_background": "light"
          }
        }
      ]
    },
    {
      "cell_type": "code",
      "metadata": {
        "colab": {
          "base_uri": "https://localhost:8080/"
        },
        "id": "H4Y_tgepjxwm",
        "outputId": "4f81b005-fc49-4bb8-8b1b-887ac04fecc2"
      },
      "source": [
        "print(stats.skew(df['height']))\n",
        "# Pelo boxplot, percebemos que a mediana (linha verde) está acima da média (triangulo verde), o que é um indício de não-simetria\n",
        "# A obliquidade é negativa porém é um valor baixo. Assim podemos considerar que a distribuição possui leve cauda esquerda ou que é aproximadamente simétrica"
      ],
      "execution_count": null,
      "outputs": [
        {
          "output_type": "stream",
          "text": [
            "-0.1195645747184587\n"
          ],
          "name": "stdout"
        }
      ]
    },
    {
      "cell_type": "code",
      "metadata": {
        "colab": {
          "base_uri": "https://localhost:8080/",
          "height": 281
        },
        "id": "klIy6X8lkJ9h",
        "outputId": "c7e59a54-0a8e-4d41-f2b8-da9252c297a5"
      },
      "source": [
        "hist(df, 'age')"
      ],
      "execution_count": null,
      "outputs": [
        {
          "output_type": "display_data",
          "data": {
            "image/png": "[encoded data removed]",
            "text/plain": [
              "<Figure size 432x288 with 1 Axes>"
            ]
          },
          "metadata": {
            "tags": [],
            "needs_background": "light"
          }
        }
      ]
    },
    {
      "cell_type": "code",
      "metadata": {
        "colab": {
          "base_uri": "https://localhost:8080/",
          "height": 265
        },
        "id": "UbiMgnPakN6n",
        "outputId": "dfc1c3da-49b5-4884-e86b-038954f51732"
      },
      "source": [
        "boxplot(df, 'age')"
      ],
      "execution_count": null,
      "outputs": [
        {
          "output_type": "display_data",
          "data": {
            "image/png": "[encoded data removed]",
            "text/plain": [
              "<Figure size 432x288 with 1 Axes>"
            ]
          },
          "metadata": {
            "tags": [],
            "needs_background": "light"
          }
        }
      ]
    },
    {
      "cell_type": "code",
      "metadata": {
        "colab": {
          "base_uri": "https://localhost:8080/"
        },
        "id": "yy9kAo8skPSC",
        "outputId": "a88ebe71-6a16-4b2d-e480-d9a71fb4dd5b"
      },
      "source": [
        "print(stats.skew(df['age']))\n",
        "# Pelo boxplot, percebemos que a mediana (linha verde) está acima da média (triangulo verde), o que é um indício de não-simetria\n",
        "# A obliquidade é positiva porém também num valor baixo.\n",
        "# Assim podemos considerar que a distribuição possui leve cauda direita em relação à media ou que é aproximadamente simétrica."
      ],
      "execution_count": null,
      "outputs": [
        {
          "output_type": "stream",
          "text": [
            "0.25373750128591105\n"
          ],
          "name": "stdout"
        }
      ]
    }
  ]
}