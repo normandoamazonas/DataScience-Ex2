{
  "nbformat": 4,
  "nbformat_minor": 0,
  "metadata": {
    "colab": {
      "provenance": []
    },
    "kernelspec": {
      "name": "python3",
      "display_name": "Python 3"
    },
    "language_info": {
      "name": "python"
    }
  },
  "cells": [
    {
      "cell_type": "markdown",
      "metadata": {
        "id": "TJRza6JiKvwP"
      },
      "source": [
        "Disciplina: SCC5948_Ciência_de_dados\n",
        "\n",
        "Normando de Campos Amazonas Filho\n",
        "\n",
        "NUSP: 11561949\n",
        "\n",
        "## Dados unidimensionais\n",
        "\n",
        "Suponha dois conjuntos de dados, que representam as notas finais em uma dada disciplina de duas salas com 100 alunos. Os dados foram armazenados nos arquivos \"notas_salas01.txt\" e \"notas_salas02.txt\".\n",
        "\n",
        "Imagine que uma pessoa deseje comparar o desempenho das salas de aula. Considera-se que, **quanto mais alunos foram aprovados, melhor o desempenho da sala**. Suponha que para ser aprovado, um aluno deve ter nota maior que 50.\n",
        "\n",
        "Como medida inicial de desempenho, essa pessoa calculou a média dos dados através do código abaixo:"
      ]
    },
    {
      "cell_type": "code",
      "metadata": {
        "id": "0Rl_CxITsjsL"
      },
      "source": [
        "import numpy as np\n",
        "import pandas as pd\n",
        "from scipy import stats"
      ],
      "execution_count": null,
      "outputs": []
    },
    {
      "cell_type": "code",
      "metadata": {
        "colab": {
          "base_uri": "https://localhost:8080/"
        },
        "id": "4Eqdjx6QL9T3",
        "outputId": "d36b673e-e5a1-42c7-88b6-353e6f2ec8a8"
      },
      "source": [
        "from google.colab import drive\n",
        "drive.mount('/content/drive')"
      ],
      "execution_count": null,
      "outputs": [
        {
          "output_type": "stream",
          "text": [
            "Drive already mounted at /content/drive; to attempt to forcibly remount, call drive.mount(\"/content/drive\", force_remount=True).\n"
          ],
          "name": "stdout"
        }
      ]
    },
    {
      "cell_type": "code",
      "metadata": {
        "id": "vETE9HijMV6J"
      },
      "source": [
        "PATH = \"/content/drive/MyDrive/Mestrado/Discipinas/Exercícios - Ciência de Dados/Ex2/data/\""
      ],
      "execution_count": null,
      "outputs": []
    },
    {
      "cell_type": "code",
      "metadata": {
        "id": "qq5GloIcKq3j",
        "colab": {
          "base_uri": "https://localhost:8080/"
        },
        "outputId": "6528f9ad-991a-409c-b66d-f4b5720e9d58"
      },
      "source": [
        "salas = []\n",
        "salas.append(np.loadtxt(PATH + \"notas_sala01.txt\"))\n",
        "salas.append(np.loadtxt(PATH + \"notas_sala02.txt\"))\n",
        "\n",
        "for i in range(0,2):\n",
        "    print(\"--- Sala: %d ---\" % (i+1))\n",
        "    print(\"Média: %f\" % np.mean(salas[i]))"
      ],
      "execution_count": null,
      "outputs": [
        {
          "output_type": "stream",
          "text": [
            "--- Sala: 1 ---\n",
            "Média: 60.184709\n",
            "--- Sala: 2 ---\n",
            "Média: 55.184195\n"
          ],
          "name": "stdout"
        }
      ]
    },
    {
      "cell_type": "markdown",
      "metadata": {
        "id": "dKP6V_kbK4Tv"
      },
      "source": [
        "**Com base na média, a pessoa concluiu que a sala 1 obteve um melhor desempenho que a sala 2.**\n",
        "\n",
        "### Questão 01.\n",
        "Demonstre o porquê dessa conclusão estar equivocada.\n",
        "   - Sugestão: Transforme as estruturas `salas[0]` e `salas[1]` em estruturas do tipo `DataFrame` da biblioteca **pandas** e utilize as funções de histograma e/ou boxplot."
      ]
    },
    {
      "cell_type": "code",
      "metadata": {
        "id": "utXDWd2vNaY4"
      },
      "source": [
        "notas_dict = {\n",
        "    \"sala1\": salas[0],\n",
        "    \"sala2\": salas[1]\n",
        "}"
      ],
      "execution_count": null,
      "outputs": []
    },
    {
      "cell_type": "code",
      "metadata": {
        "id": "QKX00e2zKuy8"
      },
      "source": [
        "notas_df = pd.DataFrame.from_dict(notas_dict)"
      ],
      "execution_count": null,
      "outputs": []
    },
    {
      "cell_type": "code",
      "metadata": {
        "colab": {
          "base_uri": "https://localhost:8080/",
          "height": 206
        },
        "id": "48IfboalNRjS",
        "outputId": "6abafc41-cd21-46ab-f5f4-2e41c0031339"
      },
      "source": [
        "notas_df.head()"
      ],
      "execution_count": null,
      "outputs": [
        {
          "output_type": "execute_result",
          "data": {
            "text/html": [
              "<div>\n",
              "<style scoped>\n",
              "    .dataframe tbody tr th:only-of-type {\n",
              "        vertical-align: middle;\n",
              "    }\n",
              "\n",
              "    .dataframe tbody tr th {\n",
              "        vertical-align: top;\n",
              "    }\n",
              "\n",
              "    .dataframe thead th {\n",
              "        text-align: right;\n",
              "    }\n",
              "</style>\n",
              "<table border=\"1\" class=\"dataframe\">\n",
              "  <thead>\n",
              "    <tr style=\"text-align: right;\">\n",
              "      <th></th>\n",
              "      <th>sala1</th>\n",
              "      <th>sala2</th>\n",
              "    </tr>\n",
              "  </thead>\n",
              "  <tbody>\n",
              "    <tr>\n",
              "      <th>0</th>\n",
              "      <td>42.34484</td>\n",
              "      <td>58.064151</td>\n",
              "    </tr>\n",
              "    <tr>\n",
              "      <th>1</th>\n",
              "      <td>100.00000</td>\n",
              "      <td>57.432729</td>\n",
              "    </tr>\n",
              "    <tr>\n",
              "      <th>2</th>\n",
              "      <td>100.00000</td>\n",
              "      <td>62.847655</td>\n",
              "    </tr>\n",
              "    <tr>\n",
              "      <th>3</th>\n",
              "      <td>0.00000</td>\n",
              "      <td>60.350696</td>\n",
              "    </tr>\n",
              "    <tr>\n",
              "      <th>4</th>\n",
              "      <td>0.00000</td>\n",
              "      <td>63.985701</td>\n",
              "    </tr>\n",
              "  </tbody>\n",
              "</table>\n",
              "</div>"
            ],
            "text/plain": [
              "       sala1      sala2\n",
              "0   42.34484  58.064151\n",
              "1  100.00000  57.432729\n",
              "2  100.00000  62.847655\n",
              "3    0.00000  60.350696\n",
              "4    0.00000  63.985701"
            ]
          },
          "metadata": {
            "tags": []
          },
          "execution_count": 32
        }
      ]
    },
    {
      "cell_type": "markdown",
      "metadata": {
        "id": "IpnU-cWaNztq"
      },
      "source": [
        "### Sala 1"
      ]
    },
    {
      "cell_type": "code",
      "metadata": {
        "colab": {
          "base_uri": "https://localhost:8080/",
          "height": 282
        },
        "id": "hPyHLQPJM_yj",
        "outputId": "4f41690d-425c-4a05-fc4c-e48cdcadcb63"
      },
      "source": [
        "notas_df[\"sala1\"].hist()"
      ],
      "execution_count": null,
      "outputs": [
        {
          "output_type": "execute_result",
          "data": {
            "text/plain": [
              "<matplotlib.axes._subplots.AxesSubplot at 0x7f53a92294d0>"
            ]
          },
          "metadata": {
            "tags": []
          },
          "execution_count": 33
        },
        {
          "output_type": "display_data",
          "data": {
            "image/png": "[encoded data removed]",
            "text/plain": [
              "<Figure size 432x288 with 1 Axes>"
            ]
          },
          "metadata": {
            "tags": [],
            "needs_background": "light"
          }
        }
      ]
    },
    {
      "cell_type": "code",
      "metadata": {
        "colab": {
          "base_uri": "https://localhost:8080/",
          "height": 282
        },
        "id": "EQ1gLq1UN81k",
        "outputId": "39fced87-6011-4234-a92e-55eef1775acb"
      },
      "source": [
        "notas_df.boxplot(column=[\"sala1\"])"
      ],
      "execution_count": null,
      "outputs": [
        {
          "output_type": "execute_result",
          "data": {
            "text/plain": [
              "<matplotlib.axes._subplots.AxesSubplot at 0x7f53a9190b10>"
            ]
          },
          "metadata": {
            "tags": []
          },
          "execution_count": 34
        },
        {
          "output_type": "display_data",
          "data": {
            "image/png": "[encoded data removed]",
            "text/plain": [
              "<Figure size 432x288 with 1 Axes>"
            ]
          },
          "metadata": {
            "tags": [],
            "needs_background": "light"
          }
        }
      ]
    },
    {
      "cell_type": "markdown",
      "metadata": {
        "id": "GyIkgGMAOMqO"
      },
      "source": [
        "### Sala 2"
      ]
    },
    {
      "cell_type": "code",
      "metadata": {
        "colab": {
          "base_uri": "https://localhost:8080/",
          "height": 282
        },
        "id": "jGpdbBqkORE1",
        "outputId": "b7a401e7-ec65-4e74-d55a-940a2ad2df36"
      },
      "source": [
        "notas_df[\"sala2\"].hist()"
      ],
      "execution_count": null,
      "outputs": [
        {
          "output_type": "execute_result",
          "data": {
            "text/plain": [
              "<matplotlib.axes._subplots.AxesSubplot at 0x7f53a91135d0>"
            ]
          },
          "metadata": {
            "tags": []
          },
          "execution_count": 35
        },
        {
          "output_type": "display_data",
          "data": {
            "image/png": "[encoded data removed]",
            "text/plain": [
              "<Figure size 432x288 with 1 Axes>"
            ]
          },
          "metadata": {
            "tags": [],
            "needs_background": "light"
          }
        }
      ]
    },
    {
      "cell_type": "code",
      "metadata": {
        "colab": {
          "base_uri": "https://localhost:8080/",
          "height": 282
        },
        "id": "WqOSc7CBOYKr",
        "outputId": "14e3974c-13f8-4f3f-e554-af7725db5d44"
      },
      "source": [
        "notas_df.boxplot(column=[\"sala2\"])"
      ],
      "execution_count": null,
      "outputs": [
        {
          "output_type": "execute_result",
          "data": {
            "text/plain": [
              "<matplotlib.axes._subplots.AxesSubplot at 0x7f53a907ca90>"
            ]
          },
          "metadata": {
            "tags": []
          },
          "execution_count": 36
        },
        {
          "output_type": "display_data",
          "data": {
            "image/png": "[encoded data removed]",
            "text/plain": [
              "<Figure size 432x288 with 1 Axes>"
            ]
          },
          "metadata": {
            "tags": [],
            "needs_background": "light"
          }
        }
      ]
    },
    {
      "cell_type": "markdown",
      "metadata": {
        "id": "3fn6cFelOe2u"
      },
      "source": [
        "### Conclusão\n",
        "\n",
        "Observa-se pelos histograma que os valores das notas da sala 2 se concentram ao redor da média. Por outro lado, o histograma da sala 1 mostra que há um pico de notas a direita do centro. Devido a sensibilidade da média, este pico de valores altos acaba deslocando o valor da média para direita e, consequentemente, enviesando seu valor. Logo, conclusão apresentada está errada pois, a sala 2 possui menor desvio em relação a média (valores mais centrados), tornando suas notas mais consistentes e, consequentemente, tendo um desempenho melhor que a sala 1 (explicação na aula 4_espalhamento, 8m30s)\n"
      ]
    },
    {
      "cell_type": "markdown",
      "metadata": {
        "id": "xcf9ShzXLBFb"
      },
      "source": [
        "### Questão 02.\n",
        "Calcule o número de aprovados em cada uma das salas."
      ]
    },
    {
      "cell_type": "code",
      "metadata": {
        "id": "uy1U8dEELKjz"
      },
      "source": [
        "def num_alunos_aprovados(notas, media=50):\n",
        "\n",
        "  aprovados1 = (notas[\"sala1\"] > media).sum()\n",
        "  aprovados2 = (notas[\"sala2\"] > media).sum()\n",
        "\n",
        "  print(f\"A sala 1 teve {aprovados1} alunos aprovados.\")\n",
        "  print(f\"A sala 2 teve {aprovados2} alunos aprovados.\")"
      ],
      "execution_count": null,
      "outputs": []
    },
    {
      "cell_type": "code",
      "metadata": {
        "colab": {
          "base_uri": "https://localhost:8080/"
        },
        "id": "rBNkuhZGPH_S",
        "outputId": "2698be73-09d2-453c-dcb1-c469457351bb"
      },
      "source": [
        "num_alunos_aprovados(notas_df, media=50)"
      ],
      "execution_count": null,
      "outputs": [
        {
          "output_type": "stream",
          "text": [
            "A sala 1 teve 68 alunos aprovados.\n",
            "A sala 2 teve 90 alunos aprovados.\n"
          ],
          "name": "stdout"
        }
      ]
    },
    {
      "cell_type": "markdown",
      "metadata": {
        "id": "y_VnrhDimxHU"
      },
      "source": [
        "### Base Futebol\n",
        "\n",
        "Suponha que uma emissora de televisão te contratou para analisar o perfil dos jogadores do futebol europeu para que os narradores possam dizer estatísticas sobre eles durante os jogos.\n",
        "\n",
        "Os dados estão numa planilha chamada `players_sampled.csv`, onde cada linha contém os dados de um jogador e cada coluna possui um atributo. Essa base foi adaptada do site de competições de ciência de dados chamado [Kaggle](*https*://www.kaggle.com/hugomathien/soccer)."
      ]
    },
    {
      "cell_type": "code",
      "metadata": {
        "id": "Q4TNT9dxlj0H",
        "colab": {
          "base_uri": "https://localhost:8080/"
        },
        "outputId": "5894ebef-2525-475c-cbc2-94a17cea5b46"
      },
      "source": [
        "# Carregando a base\n",
        "df = pd.read_csv(PATH + 'players_sampled.csv')\n",
        "df.info()"
      ],
      "execution_count": null,
      "outputs": [
        {
          "output_type": "stream",
          "text": [
            "<class 'pandas.core.frame.DataFrame'>\n",
            "RangeIndex: 350 entries, 0 to 349\n",
            "Data columns (total 7 columns):\n",
            " #   Column              Non-Null Count  Dtype  \n",
            "---  ------              --------------  -----  \n",
            " 0   id                  350 non-null    int64  \n",
            " 1   player_api_id       350 non-null    int64  \n",
            " 2   player_name         350 non-null    object \n",
            " 3   player_fifa_api_id  350 non-null    int64  \n",
            " 4   birthday            350 non-null    object \n",
            " 5   height              350 non-null    float64\n",
            " 6   weight              350 non-null    int64  \n",
            "dtypes: float64(1), int64(4), object(2)\n",
            "memory usage: 19.3+ KB\n"
          ],
          "name": "stdout"
        }
      ]
    },
    {
      "cell_type": "code",
      "metadata": {
        "colab": {
          "base_uri": "https://localhost:8080/",
          "height": 206
        },
        "id": "ROrnPAwQP9qv",
        "outputId": "63161755-bc74-4e69-d189-33ca07994d0a"
      },
      "source": [
        "df.head()"
      ],
      "execution_count": null,
      "outputs": [
        {
          "output_type": "execute_result",
          "data": {
            "text/html": [
              "<div>\n",
              "<style scoped>\n",
              "    .dataframe tbody tr th:only-of-type {\n",
              "        vertical-align: middle;\n",
              "    }\n",
              "\n",
              "    .dataframe tbody tr th {\n",
              "        vertical-align: top;\n",
              "    }\n",
              "\n",
              "    .dataframe thead th {\n",
              "        text-align: right;\n",
              "    }\n",
              "</style>\n",
              "<table border=\"1\" class=\"dataframe\">\n",
              "  <thead>\n",
              "    <tr style=\"text-align: right;\">\n",
              "      <th></th>\n",
              "      <th>id</th>\n",
              "      <th>player_api_id</th>\n",
              "      <th>player_name</th>\n",
              "      <th>player_fifa_api_id</th>\n",
              "      <th>birthday</th>\n",
              "      <th>height</th>\n",
              "      <th>weight</th>\n",
              "    </tr>\n",
              "  </thead>\n",
              "  <tbody>\n",
              "    <tr>\n",
              "      <th>0</th>\n",
              "      <td>530</td>\n",
              "      <td>167285</td>\n",
              "      <td>Alireza Haghighi</td>\n",
              "      <td>191589</td>\n",
              "      <td>1988-05-02 00:00:00</td>\n",
              "      <td>193.04</td>\n",
              "      <td>176</td>\n",
              "    </tr>\n",
              "    <tr>\n",
              "      <th>1</th>\n",
              "      <td>8608</td>\n",
              "      <td>184536</td>\n",
              "      <td>Philippe Coutinho</td>\n",
              "      <td>189242</td>\n",
              "      <td>1992-06-12 00:00:00</td>\n",
              "      <td>170.18</td>\n",
              "      <td>150</td>\n",
              "    </tr>\n",
              "    <tr>\n",
              "      <th>2</th>\n",
              "      <td>7752</td>\n",
              "      <td>38947</td>\n",
              "      <td>Mustapha Jarju Alasan</td>\n",
              "      <td>178374</td>\n",
              "      <td>1986-07-18 00:00:00</td>\n",
              "      <td>182.88</td>\n",
              "      <td>179</td>\n",
              "    </tr>\n",
              "    <tr>\n",
              "      <th>3</th>\n",
              "      <td>11073</td>\n",
              "      <td>36491</td>\n",
              "      <td>Zsolt Low</td>\n",
              "      <td>111191</td>\n",
              "      <td>1979-04-29 00:00:00</td>\n",
              "      <td>180.34</td>\n",
              "      <td>154</td>\n",
              "    </tr>\n",
              "    <tr>\n",
              "      <th>4</th>\n",
              "      <td>8427</td>\n",
              "      <td>27613</td>\n",
              "      <td>Paulinho</td>\n",
              "      <td>164256</td>\n",
              "      <td>1986-01-10 00:00:00</td>\n",
              "      <td>175.26</td>\n",
              "      <td>159</td>\n",
              "    </tr>\n",
              "  </tbody>\n",
              "</table>\n",
              "</div>"
            ],
            "text/plain": [
              "      id  player_api_id  ...  height  weight\n",
              "0    530         167285  ...  193.04     176\n",
              "1   8608         184536  ...  170.18     150\n",
              "2   7752          38947  ...  182.88     179\n",
              "3  11073          36491  ...  180.34     154\n",
              "4   8427          27613  ...  175.26     159\n",
              "\n",
              "[5 rows x 7 columns]"
            ]
          },
          "metadata": {
            "tags": []
          },
          "execution_count": 40
        }
      ]
    },
    {
      "cell_type": "markdown",
      "metadata": {
        "id": "UXgKevIdl-Mj"
      },
      "source": [
        "### Questão 03\n",
        "Para cada atributo da base, identifique quais são categoricos/nominais, ordinais, intervalares e racionais. (Não precisa ser em código)\n"
      ]
    },
    {
      "cell_type": "markdown",
      "metadata": {
        "id": "W1LRQU1ftb3F"
      },
      "source": [
        "\n",
        "Atributos\n",
        "\n",
        "*   id: **nominal**\n",
        "*   player_api_id: **nominal**\n",
        "*   player_name: **nominal**\n",
        "*   player_fifa_api_id: **nominal**\n",
        "*   birthday: **intervalar**\n",
        "*   height: **racional**\n",
        "*   weight: **racional**\n",
        "\n",
        "\n"
      ]
    },
    {
      "cell_type": "markdown",
      "metadata": {
        "id": "aQUKompInIsN"
      },
      "source": [
        "### Questão 4\n",
        "\n",
        "Formule 3 hipóteses sobre a base ou seus atributos que possam ser verificadas com os conceitos apresentados na disciplina.\n",
        "\n",
        "Ex: O atributo altura tem mais valores abaixo da média (obliquidade negativa)\n",
        "\n",
        "\n",
        "-   Hipótese 1: Há mais jogadores com alturas acima da média (obliquidade negativa).\n",
        "\n",
        "-   Hipótese 2: Há mais jogadores com peso acima da média (obliquidade negativa)\n",
        "\n",
        "-   Hipótese 3: As alturas dos jogadores apresentam uma distribuição mais achatada que a distribuição normal (curtose negativa).\n",
        "\n",
        "\n"
      ]
    },
    {
      "cell_type": "markdown",
      "metadata": {
        "id": "AgG914Mfn3tK"
      },
      "source": [
        "### Questão 5\n",
        "\n",
        "Verifique se suas hipóteses são verdadeiras"
      ]
    },
    {
      "cell_type": "markdown",
      "metadata": {
        "id": "xO2fojD3LmlY"
      },
      "source": [
        "### Hipótese 1\n",
        "\n",
        "Analisando os valores de média, moda, mediana e obliquidade chegamos a conclusão que a hipótese é verdadeira, pois os valores de moda e mediana estão a direita do valor da média e sua obliquidade é negativa."
      ]
    },
    {
      "cell_type": "code",
      "metadata": {
        "id": "ycOLDgkgLJlu"
      },
      "source": [
        "def h1(df):\n",
        "\n",
        "  sample_values = df[\"height\"].values\n",
        "\n",
        "  df[\"height\"].hist()\n",
        "  print(f\"- O valor da sua média é {sample_values.mean()}\")\n",
        "  print(f\"- O valor da sua moda é {stats.mode(sample_values)}\")\n",
        "  print(f\"- O valor da sua mediana é {np.median(sample_values)}\")\n",
        "  print(f\"- O valor da sua obliquidade é {stats.skew(sample_values)}\")"
      ],
      "execution_count": null,
      "outputs": []
    },
    {
      "cell_type": "code",
      "metadata": {
        "colab": {
          "base_uri": "https://localhost:8080/",
          "height": 334
        },
        "id": "LdCqhQ4qNJQg",
        "outputId": "f5bf9f85-c137-4805-fa6b-f9ded2c19c9b"
      },
      "source": [
        "h1(df)"
      ],
      "execution_count": null,
      "outputs": [
        {
          "output_type": "stream",
          "text": [
            "- O valor da sua média é 182.0164\n",
            "- O valor da sua moda é ModeResult(mode=array([182.88]), count=array([69]))\n",
            "- O valor da sua mediana é 182.88\n",
            "- O valor da sua obliquidade é -0.1195645747184587\n"
          ],
          "name": "stdout"
        },
        {
          "output_type": "display_data",
          "data": {
            "image/png": "[encoded data removed]",
            "text/plain": [
              "<Figure size 432x288 with 1 Axes>"
            ]
          },
          "metadata": {
            "tags": [],
            "needs_background": "light"
          }
        }
      ]
    },
    {
      "cell_type": "markdown",
      "metadata": {
        "id": "5hOZET3DNGCG"
      },
      "source": [
        "### Hipotese 2\n",
        "\n",
        "Analisando os valores de média, moda, mediana e obliquidade conclui-se que a hipótese é falsa. O que ocorre é o contrário, predominam jogadores com peso abaixo da média, já que os valores de moda e mediana são menores que o valor da média e sua obliquidade é positiva."
      ]
    },
    {
      "cell_type": "code",
      "metadata": {
        "id": "eU1NUyJvNLnp"
      },
      "source": [
        "def h2(df):\n",
        "\n",
        "  sample_values = df[\"weight\"].values\n",
        "\n",
        "  df[\"weight\"].hist()\n",
        "  print(f\"- O valor da sua média é {sample_values.mean()}\")\n",
        "  print(f\"- O valor da sua moda é {stats.mode(sample_values)}\")\n",
        "  print(f\"- O valor da sua mediana é {np.median(sample_values)}\")\n",
        "  print(f\"- O valor da sua obliquidade é {stats.skew(sample_values)}\")"
      ],
      "execution_count": null,
      "outputs": []
    },
    {
      "cell_type": "code",
      "metadata": {
        "colab": {
          "base_uri": "https://localhost:8080/",
          "height": 334
        },
        "id": "q4tqFefxLlZS",
        "outputId": "d5f9d734-d5a2-414a-ff04-d99835bcb2e4"
      },
      "source": [
        "h2(df)"
      ],
      "execution_count": null,
      "outputs": [
        {
          "output_type": "stream",
          "text": [
            "- O valor da sua média é 168.55428571428573\n",
            "- O valor da sua moda é ModeResult(mode=array([176]), count=array([29]))\n",
            "- O valor da sua mediana é 168.0\n",
            "- O valor da sua obliquidade é 0.030147052872861315\n"
          ],
          "name": "stdout"
        },
        {
          "output_type": "display_data",
          "data": {
            "image/png": "[encoded data removed]",
            "text/plain": [
              "<Figure size 432x288 with 1 Axes>"
            ]
          },
          "metadata": {
            "tags": [],
            "needs_background": "light"
          }
        }
      ]
    },
    {
      "cell_type": "markdown",
      "metadata": {
        "id": "Ogbqbg5cOGnr"
      },
      "source": [
        "## Hipótese 3\n",
        "\n",
        "Observa-se pela análise do histograma dos valores de altura e do valor da kurtose que a hipótese é verdadeira. Observa-se que o valor da kurtose é negativo o que justifica a aparência achatada da distribuição."
      ]
    },
    {
      "cell_type": "code",
      "metadata": {
        "id": "QHwLOjd7MmQg"
      },
      "source": [
        "def h3(df):\n",
        "\n",
        "  sample_values = df[\"height\"].values\n",
        "\n",
        "  df[\"height\"].hist()\n",
        "  print(f\"- O valor da kurtose é {stats.kurtosis(sample_values)}\")"
      ],
      "execution_count": null,
      "outputs": []
    },
    {
      "cell_type": "code",
      "metadata": {
        "colab": {
          "base_uri": "https://localhost:8080/",
          "height": 282
        },
        "id": "Gx5gsp3HOhQr",
        "outputId": "6a704efc-cdf3-4e0e-89f6-93c09fdef291"
      },
      "source": [
        "h3(df)"
      ],
      "execution_count": null,
      "outputs": [
        {
          "output_type": "stream",
          "text": [
            "- O valor da kurtose é -0.44312347846415756\n"
          ],
          "name": "stdout"
        },
        {
          "output_type": "display_data",
          "data": {
            "image/png": "[encoded data removed]",
            "text/plain": [
              "<Figure size 432x288 with 1 Axes>"
            ]
          },
          "metadata": {
            "tags": [],
            "needs_background": "light"
          }
        }
      ]
    },
    {
      "cell_type": "markdown",
      "metadata": {
        "id": "-J0xNb4Tnw6i"
      },
      "source": [
        "### Questão 6\n",
        "- Os pesos dos jogadores foram dados em libras. Transforme os pesos dos jogadores para quilos e substitua o valor antigo da coluna no DataFrame. Dica: 1 lb = 0.45359237 kg\n",
        "\n",
        "- Crie um novo atributo chamado \"age\" (idade) a partir da data de nascimento do jogador. Este atributo deve ser considerado nas próximas questões. A idade deve ser um número inteiro."
      ]
    },
    {
      "cell_type": "code",
      "metadata": {
        "id": "CrvjUHYpoRiL"
      },
      "source": [
        "def lb_para_kg(df):\n",
        "\n",
        "   df[\"weight_kg\"] = 0.45359237 * df[\"weight\"]\n",
        "\n",
        "   return df"
      ],
      "execution_count": null,
      "outputs": []
    },
    {
      "cell_type": "code",
      "metadata": {
        "id": "9MZkeB3zjD5g"
      },
      "source": [
        "# A biblioteca calendar ou a datetime podem te ajudar\n",
        "from datetime import datetime\n",
        "\n",
        "def dias_para_anos(dias):\n",
        "\n",
        "  return int(dias/365)\n",
        "\n",
        "def calc_idade(df):\n",
        "\n",
        "  time_deltas = datetime.now() - pd.to_datetime(df[\"birthday\"])\n",
        "  df[\"age\"] = [dias_para_anos(delta.days) for delta in time_deltas]\n",
        "\n",
        "  return df"
      ],
      "execution_count": null,
      "outputs": []
    },
    {
      "cell_type": "code",
      "metadata": {
        "colab": {
          "base_uri": "https://localhost:8080/",
          "height": 206
        },
        "id": "tkxThTBGQjzl",
        "outputId": "5df4381a-3fe1-4df4-c177-3739a3470936"
      },
      "source": [
        "df = lb_para_kg(df)\n",
        "df.head()"
      ],
      "execution_count": null,
      "outputs": [
        {
          "output_type": "execute_result",
          "data": {
            "text/html": [
              "<div>\n",
              "<style scoped>\n",
              "    .dataframe tbody tr th:only-of-type {\n",
              "        vertical-align: middle;\n",
              "    }\n",
              "\n",
              "    .dataframe tbody tr th {\n",
              "        vertical-align: top;\n",
              "    }\n",
              "\n",
              "    .dataframe thead th {\n",
              "        text-align: right;\n",
              "    }\n",
              "</style>\n",
              "<table border=\"1\" class=\"dataframe\">\n",
              "  <thead>\n",
              "    <tr style=\"text-align: right;\">\n",
              "      <th></th>\n",
              "      <th>id</th>\n",
              "      <th>player_api_id</th>\n",
              "      <th>player_name</th>\n",
              "      <th>player_fifa_api_id</th>\n",
              "      <th>birthday</th>\n",
              "      <th>height</th>\n",
              "      <th>weight</th>\n",
              "      <th>weight_kg</th>\n",
              "    </tr>\n",
              "  </thead>\n",
              "  <tbody>\n",
              "    <tr>\n",
              "      <th>0</th>\n",
              "      <td>530</td>\n",
              "      <td>167285</td>\n",
              "      <td>Alireza Haghighi</td>\n",
              "      <td>191589</td>\n",
              "      <td>1988-05-02 00:00:00</td>\n",
              "      <td>193.04</td>\n",
              "      <td>176</td>\n",
              "      <td>79.832257</td>\n",
              "    </tr>\n",
              "    <tr>\n",
              "      <th>1</th>\n",
              "      <td>8608</td>\n",
              "      <td>184536</td>\n",
              "      <td>Philippe Coutinho</td>\n",
              "      <td>189242</td>\n",
              "      <td>1992-06-12 00:00:00</td>\n",
              "      <td>170.18</td>\n",
              "      <td>150</td>\n",
              "      <td>68.038855</td>\n",
              "    </tr>\n",
              "    <tr>\n",
              "      <th>2</th>\n",
              "      <td>7752</td>\n",
              "      <td>38947</td>\n",
              "      <td>Mustapha Jarju Alasan</td>\n",
              "      <td>178374</td>\n",
              "      <td>1986-07-18 00:00:00</td>\n",
              "      <td>182.88</td>\n",
              "      <td>179</td>\n",
              "      <td>81.193034</td>\n",
              "    </tr>\n",
              "    <tr>\n",
              "      <th>3</th>\n",
              "      <td>11073</td>\n",
              "      <td>36491</td>\n",
              "      <td>Zsolt Low</td>\n",
              "      <td>111191</td>\n",
              "      <td>1979-04-29 00:00:00</td>\n",
              "      <td>180.34</td>\n",
              "      <td>154</td>\n",
              "      <td>69.853225</td>\n",
              "    </tr>\n",
              "    <tr>\n",
              "      <th>4</th>\n",
              "      <td>8427</td>\n",
              "      <td>27613</td>\n",
              "      <td>Paulinho</td>\n",
              "      <td>164256</td>\n",
              "      <td>1986-01-10 00:00:00</td>\n",
              "      <td>175.26</td>\n",
              "      <td>159</td>\n",
              "      <td>72.121187</td>\n",
              "    </tr>\n",
              "  </tbody>\n",
              "</table>\n",
              "</div>"
            ],
            "text/plain": [
              "      id  player_api_id            player_name  ...  height weight  weight_kg\n",
              "0    530         167285       Alireza Haghighi  ...  193.04    176  79.832257\n",
              "1   8608         184536      Philippe Coutinho  ...  170.18    150  68.038855\n",
              "2   7752          38947  Mustapha Jarju Alasan  ...  182.88    179  81.193034\n",
              "3  11073          36491              Zsolt Low  ...  180.34    154  69.853225\n",
              "4   8427          27613               Paulinho  ...  175.26    159  72.121187\n",
              "\n",
              "[5 rows x 8 columns]"
            ]
          },
          "metadata": {
            "tags": []
          },
          "execution_count": 49
        }
      ]
    },
    {
      "cell_type": "code",
      "metadata": {
        "colab": {
          "base_uri": "https://localhost:8080/",
          "height": 206
        },
        "id": "Tp9GHxkcSP-5",
        "outputId": "b6b8ebf9-4652-4aa8-9962-8ef289632ef7"
      },
      "source": [
        "df = calc_idade(df)\n",
        "df.head()"
      ],
      "execution_count": null,
      "outputs": [
        {
          "output_type": "execute_result",
          "data": {
            "text/html": [
              "<div>\n",
              "<style scoped>\n",
              "    .dataframe tbody tr th:only-of-type {\n",
              "        vertical-align: middle;\n",
              "    }\n",
              "\n",
              "    .dataframe tbody tr th {\n",
              "        vertical-align: top;\n",
              "    }\n",
              "\n",
              "    .dataframe thead th {\n",
              "        text-align: right;\n",
              "    }\n",
              "</style>\n",
              "<table border=\"1\" class=\"dataframe\">\n",
              "  <thead>\n",
              "    <tr style=\"text-align: right;\">\n",
              "      <th></th>\n",
              "      <th>id</th>\n",
              "      <th>player_api_id</th>\n",
              "      <th>player_name</th>\n",
              "      <th>player_fifa_api_id</th>\n",
              "      <th>birthday</th>\n",
              "      <th>height</th>\n",
              "      <th>weight</th>\n",
              "      <th>weight_kg</th>\n",
              "      <th>age</th>\n",
              "    </tr>\n",
              "  </thead>\n",
              "  <tbody>\n",
              "    <tr>\n",
              "      <th>0</th>\n",
              "      <td>530</td>\n",
              "      <td>167285</td>\n",
              "      <td>Alireza Haghighi</td>\n",
              "      <td>191589</td>\n",
              "      <td>1988-05-02 00:00:00</td>\n",
              "      <td>193.04</td>\n",
              "      <td>176</td>\n",
              "      <td>79.832257</td>\n",
              "      <td>33</td>\n",
              "    </tr>\n",
              "    <tr>\n",
              "      <th>1</th>\n",
              "      <td>8608</td>\n",
              "      <td>184536</td>\n",
              "      <td>Philippe Coutinho</td>\n",
              "      <td>189242</td>\n",
              "      <td>1992-06-12 00:00:00</td>\n",
              "      <td>170.18</td>\n",
              "      <td>150</td>\n",
              "      <td>68.038855</td>\n",
              "      <td>28</td>\n",
              "    </tr>\n",
              "    <tr>\n",
              "      <th>2</th>\n",
              "      <td>7752</td>\n",
              "      <td>38947</td>\n",
              "      <td>Mustapha Jarju Alasan</td>\n",
              "      <td>178374</td>\n",
              "      <td>1986-07-18 00:00:00</td>\n",
              "      <td>182.88</td>\n",
              "      <td>179</td>\n",
              "      <td>81.193034</td>\n",
              "      <td>34</td>\n",
              "    </tr>\n",
              "    <tr>\n",
              "      <th>3</th>\n",
              "      <td>11073</td>\n",
              "      <td>36491</td>\n",
              "      <td>Zsolt Low</td>\n",
              "      <td>111191</td>\n",
              "      <td>1979-04-29 00:00:00</td>\n",
              "      <td>180.34</td>\n",
              "      <td>154</td>\n",
              "      <td>69.853225</td>\n",
              "      <td>42</td>\n",
              "    </tr>\n",
              "    <tr>\n",
              "      <th>4</th>\n",
              "      <td>8427</td>\n",
              "      <td>27613</td>\n",
              "      <td>Paulinho</td>\n",
              "      <td>164256</td>\n",
              "      <td>1986-01-10 00:00:00</td>\n",
              "      <td>175.26</td>\n",
              "      <td>159</td>\n",
              "      <td>72.121187</td>\n",
              "      <td>35</td>\n",
              "    </tr>\n",
              "  </tbody>\n",
              "</table>\n",
              "</div>"
            ],
            "text/plain": [
              "      id  player_api_id            player_name  ...  weight  weight_kg  age\n",
              "0    530         167285       Alireza Haghighi  ...     176  79.832257   33\n",
              "1   8608         184536      Philippe Coutinho  ...     150  68.038855   28\n",
              "2   7752          38947  Mustapha Jarju Alasan  ...     179  81.193034   34\n",
              "3  11073          36491              Zsolt Low  ...     154  69.853225   42\n",
              "4   8427          27613               Paulinho  ...     159  72.121187   35\n",
              "\n",
              "[5 rows x 9 columns]"
            ]
          },
          "metadata": {
            "tags": []
          },
          "execution_count": 50
        }
      ]
    },
    {
      "cell_type": "markdown",
      "metadata": {
        "id": "5NJNcI7_oR_Z"
      },
      "source": [
        "### Questão 7\n",
        "Implemente a função que calcule o percetil de determinado atributo. (Atenção: As bibliotecas Numpy/Pandas possuem a função *quantile* você não deve usá-la em sua função). Os resultados também podem variar dependendo da implementação. Tente seguir a definição dos slides."
      ]
    },
    {
      "cell_type": "code",
      "metadata": {
        "id": "XsgyV9umo_u0"
      },
      "source": [
        "def percentile(df, nome_attr, pct):\n",
        "  '''\n",
        "  Parameters\n",
        "  - df: Dataframe com a base\n",
        "  - attr_name: Nome do atributo que queremos utilizar para computar o percentil\n",
        "  - pct: Percentil. Um número entre 0 e 1.\n",
        "  '''\n",
        "\n",
        "  sorted_values = np.sort(df[nome_attr].values) # retorna uma copia ordenada do array, nao modifica o original\n",
        "  p = int(np.ceil(pct * len(sorted_values) + 0.5)) # certificar que retorna um inteiro para indexação\n",
        "\n",
        "  return sorted_values[p]"
      ],
      "execution_count": null,
      "outputs": []
    },
    {
      "cell_type": "code",
      "metadata": {
        "colab": {
          "base_uri": "https://localhost:8080/"
        },
        "id": "94gnmuPrT5ii",
        "outputId": "3e840520-0542-4e81-d075-d2202e619a4f"
      },
      "source": [
        "percentile(df, \"height\", 0.2)"
      ],
      "execution_count": null,
      "outputs": [
        {
          "output_type": "execute_result",
          "data": {
            "text/plain": [
              "177.8"
            ]
          },
          "metadata": {
            "tags": []
          },
          "execution_count": 52
        }
      ]
    },
    {
      "cell_type": "markdown",
      "metadata": {
        "id": "8LoHeNtQpsWL"
      },
      "source": [
        "### Questão 08\n",
        "Utilizando sua função, calcule a mediana, 1º quartil, 3º quartil do atributo altura."
      ]
    },
    {
      "cell_type": "code",
      "metadata": {
        "id": "VZYQceN_4NQr",
        "colab": {
          "base_uri": "https://localhost:8080/"
        },
        "outputId": "4aa69f79-4f89-4d99-f930-f2386d6b4f68"
      },
      "source": [
        "# primeiro quartil\n",
        "percentile(df, \"height\", 0.25)"
      ],
      "execution_count": null,
      "outputs": [
        {
          "output_type": "execute_result",
          "data": {
            "text/plain": [
              "177.8"
            ]
          },
          "metadata": {
            "tags": []
          },
          "execution_count": 53
        }
      ]
    },
    {
      "cell_type": "code",
      "metadata": {
        "colab": {
          "base_uri": "https://localhost:8080/"
        },
        "id": "gsh2EJZVLROc",
        "outputId": "4b586a63-8637-4d1c-acf7-c10a0f4e4586"
      },
      "source": [
        "# segundo quartil (mediana)\n",
        "percentile(df, \"height\", 0.5)"
      ],
      "execution_count": null,
      "outputs": [
        {
          "output_type": "execute_result",
          "data": {
            "text/plain": [
              "182.88"
            ]
          },
          "metadata": {
            "tags": []
          },
          "execution_count": 54
        }
      ]
    },
    {
      "cell_type": "code",
      "metadata": {
        "colab": {
          "base_uri": "https://localhost:8080/"
        },
        "id": "-_IfOKHwLA7H",
        "outputId": "db5d09d5-662f-4eb3-cbf1-5bbf26b14e93"
      },
      "source": [
        "# terceiro quartil\n",
        "percentile(df, \"height\", 0.75)"
      ],
      "execution_count": null,
      "outputs": [
        {
          "output_type": "execute_result",
          "data": {
            "text/plain": [
              "185.42"
            ]
          },
          "metadata": {
            "tags": []
          },
          "execution_count": 55
        }
      ]
    },
    {
      "cell_type": "code",
      "metadata": {
        "colab": {
          "base_uri": "https://localhost:8080/"
        },
        "id": "ib-tsTC8LZpU",
        "outputId": "ea9332e1-42c2-4a08-cd2c-7dc1f27045ea"
      },
      "source": [
        "# validando\n",
        "df[\"height\"].describe()"
      ],
      "execution_count": null,
      "outputs": [
        {
          "output_type": "execute_result",
          "data": {
            "text/plain": [
              "count    350.000000\n",
              "mean     182.016400\n",
              "std        6.056907\n",
              "min      165.100000\n",
              "25%      177.800000\n",
              "50%      182.880000\n",
              "75%      185.420000\n",
              "max      198.120000\n",
              "Name: height, dtype: float64"
            ]
          },
          "metadata": {
            "tags": []
          },
          "execution_count": 56
        }
      ]
    },
    {
      "cell_type": "markdown",
      "metadata": {
        "id": "bW_923Xp4Lub"
      },
      "source": [
        "# Questão 09\n",
        "\n",
        "Calcule os quatro momentos (média, variância, obliquidade e achatamento) dos atributos onde essas métricas fazem sentido.\n",
        "\n",
        "  - Dica: Utilize as bibliotecas **numpy** para média (mean) e variância (variance) e **Scipy.stats** para obliquidade (skew) e achatamento (kurtosis)."
      ]
    },
    {
      "cell_type": "code",
      "metadata": {
        "id": "BIRq-J0G5UVj"
      },
      "source": [
        "def quatro_momentos(df, nome_attr):\n",
        "\n",
        "  sample_array = df[nome_attr].values\n",
        "\n",
        "  print(f\"- Primeiro momento (média): {sample_array.mean()}\")\n",
        "  print(f\"- Segundo momento (variância): {sample_array.var()}\")\n",
        "  print(f\"- Terceiro momento (obliquidade): {stats.skew(sample_array)}\")\n",
        "  print(f\"- Quarto momento (curtose): {stats.kurtosis(sample_array)}\")\n"
      ],
      "execution_count": null,
      "outputs": []
    },
    {
      "cell_type": "code",
      "metadata": {
        "colab": {
          "base_uri": "https://localhost:8080/",
          "height": 334
        },
        "id": "9RfZ6BjiNmsP",
        "outputId": "19ca29c8-36a6-45d3-9795-b5ff76f8dd23"
      },
      "source": [
        "analyse = \"height\"\n",
        "df[analyse].hist()\n",
        "quatro_momentos(df, analyse)"
      ],
      "execution_count": null,
      "outputs": [
        {
          "output_type": "stream",
          "text": [
            "- Primeiro momento (média): 182.0164\n",
            "- Segundo momento (variância): 36.58130932571427\n",
            "- Terceiro momento (obliquidade): -0.1195645747184587\n",
            "- Quarto momento (curtose): -0.44312347846415756\n"
          ],
          "name": "stdout"
        },
        {
          "output_type": "display_data",
          "data": {
            "image/png": "[encoded data removed]",
            "text/plain": [
              "<Figure size 432x288 with 1 Axes>"
            ]
          },
          "metadata": {
            "tags": [],
            "needs_background": "light"
          }
        }
      ]
    },
    {
      "cell_type": "markdown",
      "metadata": {
        "id": "-FSTKAZF5FSg"
      },
      "source": [
        "### Questão 10\n",
        "\n",
        "- Calcule o histograma e o boxplot dos atributos altura, peso e idade.\n",
        "- A distribuição dos atributos possui curvatura para algum lado ou são centrados?\n",
        "- A partir do Boxplot, verifique se os atributos tem outliers e justifique."
      ]
    },
    {
      "cell_type": "code",
      "metadata": {
        "id": "0jkiFH7W5T6-"
      },
      "source": [
        "def hist(df, nome_attr):\n",
        "\n",
        "  df[nome_attr].hist()\n",
        "\n",
        "def boxplot(df, nome_attr):\n",
        "\n",
        "  df.boxplot(column=nome_attr)"
      ],
      "execution_count": null,
      "outputs": []
    },
    {
      "cell_type": "markdown",
      "metadata": {
        "id": "VyvOGH4u_Vbz"
      },
      "source": [
        "### Histogramas"
      ]
    },
    {
      "cell_type": "code",
      "metadata": {
        "colab": {
          "base_uri": "https://localhost:8080/",
          "height": 265
        },
        "id": "IYMX5E4c_YBP",
        "outputId": "064fb285-4834-4a2f-be36-eec60628bb24"
      },
      "source": [
        "hist(df, \"height\")"
      ],
      "execution_count": null,
      "outputs": [
        {
          "output_type": "display_data",
          "data": {
            "image/png": "[encoded data removed]",
            "text/plain": [
              "<Figure size 432x288 with 1 Axes>"
            ]
          },
          "metadata": {
            "tags": [],
            "needs_background": "light"
          }
        }
      ]
    },
    {
      "cell_type": "code",
      "metadata": {
        "colab": {
          "base_uri": "https://localhost:8080/",
          "height": 265
        },
        "id": "fmOTSc1r_X64",
        "outputId": "43590cba-17c9-421e-9829-d633eb80bd2a"
      },
      "source": [
        "hist(df, \"weight\")"
      ],
      "execution_count": null,
      "outputs": [
        {
          "output_type": "display_data",
          "data": {
            "image/png": "[encoded data removed]",
            "text/plain": [
              "<Figure size 432x288 with 1 Axes>"
            ]
          },
          "metadata": {
            "tags": [],
            "needs_background": "light"
          }
        }
      ]
    },
    {
      "cell_type": "code",
      "metadata": {
        "colab": {
          "base_uri": "https://localhost:8080/",
          "height": 265
        },
        "id": "RogKQm-m_XnF",
        "outputId": "873c1af6-22ce-4083-d40d-9857b90440af"
      },
      "source": [
        "hist(df, \"age\")"
      ],
      "execution_count": null,
      "outputs": [
        {
          "output_type": "display_data",
          "data": {
            "image/png": "[encoded data removed]",
            "text/plain": [
              "<Figure size 432x288 with 1 Axes>"
            ]
          },
          "metadata": {
            "tags": [],
            "needs_background": "light"
          }
        }
      ]
    },
    {
      "cell_type": "markdown",
      "metadata": {
        "id": "2YabPUUT_MoG"
      },
      "source": [
        "### Boxplots"
      ]
    },
    {
      "cell_type": "code",
      "metadata": {
        "colab": {
          "base_uri": "https://localhost:8080/",
          "height": 265
        },
        "id": "g81Gsbc5OUP_",
        "outputId": "73b1e159-5af6-428f-afd8-87610294dfbb"
      },
      "source": [
        "boxplot(df, \"height\")"
      ],
      "execution_count": null,
      "outputs": [
        {
          "output_type": "display_data",
          "data": {
            "image/png": "[encoded data removed]",
            "text/plain": [
              "<Figure size 432x288 with 1 Axes>"
            ]
          },
          "metadata": {
            "tags": [],
            "needs_background": "light"
          }
        }
      ]
    },
    {
      "cell_type": "code",
      "metadata": {
        "colab": {
          "base_uri": "https://localhost:8080/",
          "height": 265
        },
        "id": "ze_9qaFR_D_g",
        "outputId": "970d077b-85dc-4158-92ec-9114b5c7da21"
      },
      "source": [
        "boxplot(df, \"weight\")"
      ],
      "execution_count": null,
      "outputs": [
        {
          "output_type": "display_data",
          "data": {
            "image/png": "[encoded data removed]",
            "text/plain": [
              "<Figure size 432x288 with 1 Axes>"
            ]
          },
          "metadata": {
            "tags": [],
            "needs_background": "light"
          }
        }
      ]
    },
    {
      "cell_type": "code",
      "metadata": {
        "colab": {
          "base_uri": "https://localhost:8080/",
          "height": 265
        },
        "id": "oufDtX8R_JF6",
        "outputId": "4407fed4-427d-4ef4-b671-f2fe003c44c7"
      },
      "source": [
        "boxplot(df, \"age\")"
      ],
      "execution_count": null,
      "outputs": [
        {
          "output_type": "display_data",
          "data": {
            "image/png": "[encoded data removed]",
            "text/plain": [
              "<Figure size 432x288 with 1 Axes>"
            ]
          },
          "metadata": {
            "tags": [],
            "needs_background": "light"
          }
        }
      ]
    },
    {
      "cell_type": "code",
      "metadata": {
        "colab": {
          "base_uri": "https://localhost:8080/"
        },
        "id": "G6B0AoLeBAty",
        "outputId": "b2184e60-13b4-4b49-f574-35be4b6b0c2f"
      },
      "source": [
        "quatro_momentos(df, \"age\")"
      ],
      "execution_count": null,
      "outputs": [
        {
          "output_type": "stream",
          "text": [
            "- Primeiro momento (média): 34.02571428571429\n",
            "- Segundo momento (variância): 26.859338775510203\n",
            "- Terceiro momento (obliquidade): 0.2593120504662387\n",
            "- Quarto momento (curtose): -0.3720064962268257\n"
          ],
          "name": "stdout"
        }
      ]
    },
    {
      "cell_type": "markdown",
      "metadata": {
        "id": "jcgQfOLB_iL4"
      },
      "source": [
        "### Discussão\n",
        "\n",
        "- A distribuição dos atributos possui curvatura para algum lado ou são centrados?\n",
        "\n",
        "Analisando os histogramas para cada um dos atributos analisados, observamos que no geral os histogramas mantém o formato de \"sino\" de uma distribuição normal, porém apresentam leves desvios em relação ao eixo central. Este fato indica a presença de valores de obliquidade cujo módulo é diferente de zero. A altura possui obliquidade negativa (deslocamento para direita) e tanto o peso quanto a altura possuem obliquidades positivas (deslocamento para esquerda).\n",
        "\n",
        "- A partir do Boxplot, verifique se os atributos tem outliers e justifique.\n",
        "\n",
        "Os plots de boxplot do Pandas identificam outliers como sendo pontos fora da extensão dos boxplots. Os outliers correspondem a valores que são maiores que a cerca superior (Q3 + 1.5 x IQR) e inferiores a cerca inferior (Q1 - 1.5 x IQR). Sendo assim, há dois outliers nas medidas de altura (um acima da cerca superior e outro abaixo da cerca inferior), um outlier nas medidas de peso (acima da cerca superior) e não há outliers nas medidas de idade.\n"
      ]
    },
    {
      "cell_type": "code",
      "metadata": {
        "colab": {
          "base_uri": "https://localhost:8080/",
          "height": 282
        },
        "id": "-NuT5mPGOX16",
        "outputId": "3f82a6a6-3f35-4e83-a0c4-813e97812e5e"
      },
      "source": [
        "# Da para fazer de uma vez...\n",
        "df.boxplot(column=[\"height\", \"weight\", \"age\"])"
      ],
      "execution_count": null,
      "outputs": [
        {
          "output_type": "execute_result",
          "data": {
            "text/plain": [
              "<matplotlib.axes._subplots.AxesSubplot at 0x7f53a92da4d0>"
            ]
          },
          "metadata": {
            "tags": []
          },
          "execution_count": 67
        },
        {
          "output_type": "display_data",
          "data": {
            "image/png": "[encoded data removed]",
            "text/plain": [
              "<Figure size 432x288 with 1 Axes>"
            ]
          },
          "metadata": {
            "tags": [],
            "needs_background": "light"
          }
        }
      ]
    },
    {
      "cell_type": "code",
      "metadata": {
        "colab": {
          "base_uri": "https://localhost:8080/",
          "height": 368
        },
        "id": "0hspjb2yO9wD",
        "outputId": "4dcba35c-e613-44f2-fb77-907d348c5b61"
      },
      "source": [
        "df.hist(column=[\"height\", \"weight\", \"age\"])"
      ],
      "execution_count": null,
      "outputs": [
        {
          "output_type": "execute_result",
          "data": {
            "text/plain": [
              "array([[<matplotlib.axes._subplots.AxesSubplot object at 0x7f53a8ddc890>,\n",
              "        <matplotlib.axes._subplots.AxesSubplot object at 0x7f53a8d96d50>],\n",
              "       [<matplotlib.axes._subplots.AxesSubplot object at 0x7f53a8ec1410>,\n",
              "        <matplotlib.axes._subplots.AxesSubplot object at 0x7f53a8f9aa90>]],\n",
              "      dtype=object)"
            ]
          },
          "metadata": {
            "tags": []
          },
          "execution_count": 68
        },
        {
          "output_type": "display_data",
          "data": {
            "image/png": "[encoded data removed]",
            "text/plain": [
              "<Figure size 432x288 with 4 Axes>"
            ]
          },
          "metadata": {
            "tags": [],
            "needs_background": "light"
          }
        }
      ]
    },
    {
      "cell_type": "code",
      "metadata": {
        "id": "MHG03vK2PBs6"
      },
      "source": [],
      "execution_count": null,
      "outputs": []
    }
  ]
}